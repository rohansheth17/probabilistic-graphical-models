{
  "nbformat": 4,
  "nbformat_minor": 0,
  "metadata": {
    "colab": {
      "name": "main.ipynb",
      "provenance": []
    },
    "kernelspec": {
      "display_name": "Python 3",
      "language": "python",
      "name": "python3"
    }
  },
  "cells": [
    {
      "cell_type": "markdown",
      "metadata": {
        "id": "cGp8lNnF0mky",
        "colab_type": "text"
      },
      "source": [
        "## Determing correlations and independences"
      ]
    },
    {
      "cell_type": "code",
      "metadata": {
        "id": "w5eTNWdC0mkz",
        "colab_type": "code",
        "outputId": "97d3232f-b862-4be3-9169-971d64045294",
        "colab": {}
      },
      "source": [
        "import pandas as pd\n",
        "import numpy as np\n",
        "\n",
        "#Cleaning the tables\n",
        "\n",
        "tab2 = pd.read_csv('Table2.csv')\n",
        "tab2.drop(['Values'],inplace=True,axis=1,errors='ignore')\n",
        "# print(tab2)\n",
        "tab2_clean = np.zeros((tab2.shape[0],tab2.shape[1]))\n",
        "for i in range(len(tab2)):\n",
        "    for j in range(len(tab2.iloc[i])):\n",
        "        if(not pd.isnull(tab2.iloc[i][j])):\n",
        "            t = tab2.iloc[i][j].split(\"%\")[0]\n",
        "            tab2_clean[i][j] = float(t)/100\n",
        "print(tab2_clean)        "
      ],
      "execution_count": 0,
      "outputs": [
        {
          "output_type": "stream",
          "text": [
            "[[0.78  0.275 0.18  0.715 0.375 0.015]\n",
            " [0.015 0.32  0.66  0.105 0.11  0.32 ]\n",
            " [0.055 0.025 0.16  0.01  0.105 0.14 ]\n",
            " [0.15  0.17  0.    0.17  0.41  0.315]\n",
            " [0.    0.21  0.    0.    0.    0.21 ]]\n"
          ],
          "name": "stdout"
        }
      ]
    },
    {
      "cell_type": "code",
      "metadata": {
        "scrolled": true,
        "id": "lmyyrRN60mk3",
        "colab_type": "code",
        "outputId": "89e13b5c-bad2-4151-9f05-9eb37145eeeb",
        "colab": {}
      },
      "source": [
        "tab3 = pd.read_csv('Table3.csv')\n",
        "tab3.drop(['x1'],inplace=True,axis=1,errors = 'ignore')\n",
        "# print(tab3)\n",
        "tab3_clean = np.zeros((tab3.shape[0],tab3.shape[1]))\n",
        "for i in range(len(tab3)):\n",
        "    for j in range(len(tab3.iloc[i])):\n",
        "        t = tab3.iloc[i][j].split(\"%\")[0]\n",
        "        tab3_clean[i][j] = float(t)/100\n",
        "print(tab3_clean)       \n",
        "\n",
        "\n",
        "    "
      ],
      "execution_count": 0,
      "outputs": [
        {
          "output_type": "stream",
          "text": [
            "[[0.78  0.015 0.055 0.15 ]\n",
            " [0.231 0.666 0.455 0.4  ]\n",
            " [0.365 0.    0.091 0.2  ]\n",
            " [0.026 0.    0.    0.033]\n",
            " [0.173 0.    0.182 0.167]\n",
            " [0.205 0.333 0.273 0.2  ]\n",
            " [0.737 1.    0.727 0.567]\n",
            " [0.077 0.    0.273 0.2  ]\n",
            " [0.013 0.    0.    0.   ]\n",
            " [0.173 0.    0.    0.233]\n",
            " [0.019 0.    0.    0.   ]\n",
            " [0.282 0.666 0.545 0.4  ]\n",
            " [0.128 0.333 0.091 0.2  ]\n",
            " [0.352 0.    0.182 0.2  ]\n",
            " [0.218 0.    0.182 0.2  ]]\n"
          ],
          "name": "stdout"
        }
      ]
    },
    {
      "cell_type": "code",
      "metadata": {
        "id": "GmW630370mk5",
        "colab_type": "code",
        "outputId": "bbd13c34-f013-4fab-ae32-1a3b3c906ed7",
        "colab": {}
      },
      "source": [
        "#Calculating correlations for Table 3\n",
        "\n",
        "\n",
        "sum = 0\n",
        "for i in range(4):\n",
        "    for j in range(1,6):\n",
        "        sum = sum + abs(tab3_clean[0][i]*((tab3_clean[j][i]) - (tab2_clean[j-1][1])))        \n",
        "print(\"Correlation(x2,x1): \",sum)  \n",
        "\n",
        "sum = 0\n",
        "for i in range(4):\n",
        "    for j in range(6,10):\n",
        "        sum = sum + abs(tab3_clean[0][i]*((tab3_clean[j][i]) - (tab2_clean[j-6][3])))\n",
        "print(\"Correlation(x4,x1): \",sum)  \n",
        "\n",
        "\n",
        "sum = 0\n",
        "for i in range(4):\n",
        "    for j in range(10,15):\n",
        "        sum = sum + abs(tab3_clean[0][i]*((tab3_clean[j][i]) - (tab2_clean[j-10][5])))\n",
        "        \n",
        "print(\"Correlation(x6,x1): \",sum)  \n",
        "\n",
        "def is_independent(X, Y, Zs=[], significance_level=0.05):\n",
        "    return est.test_conditional_independence(X, Y, Zs)[1] >= significance_level\n",
        "print(is_independent('x2', 'x3'))    #dependent\n"
      ],
      "execution_count": 0,
      "outputs": [
        {
          "output_type": "stream",
          "text": [
            "Correlation(x2,x1):  0.15977\n",
            "Correlation(x4,x1):  0.11943\n",
            "Correlation(x6,x1):  0.16015500000000008\n",
            "False\n"
          ],
          "name": "stdout"
        }
      ]
    },
    {
      "cell_type": "code",
      "metadata": {
        "id": "n8OGeqRK0mk7",
        "colab_type": "code",
        "outputId": "72d3bc67-c0b2-4966-f8e7-3aca70b6ffab",
        "colab": {}
      },
      "source": [
        "tab4 = pd.read_csv('Table4.csv')\n",
        "tab4.drop(['x2'],inplace=True,axis=1,errors = 'ignore')\n",
        "tab4_clean = np.zeros((tab4.shape[0],tab4.shape[1]))\n",
        "for i in range(len(tab4)):\n",
        "    for j in range(len(tab4.iloc[i])):\n",
        "        t = tab4.iloc[i][j].split(\"%\")[0]\n",
        "        tab4_clean[i][j] = float(t)/100\n",
        "print(tab4_clean)   "
      ],
      "execution_count": 0,
      "outputs": [
        {
          "output_type": "stream",
          "text": [
            "[[0.275 0.32  0.025 0.17  0.21 ]\n",
            " [0.127 0.266 0.2   0.176 0.119]\n",
            " [0.745 0.656 0.8   0.706 0.5  ]\n",
            " [0.127 0.078 0.    0.118 0.381]\n",
            " [0.418 0.344 0.6   0.382 0.334]\n",
            " [0.073 0.109 0.4   0.147 0.095]\n",
            " [0.109 0.125 0.    0.118 0.071]\n",
            " [0.4   0.422 0.    0.353 0.5  ]]\n"
          ],
          "name": "stdout"
        }
      ]
    },
    {
      "cell_type": "code",
      "metadata": {
        "id": "ItFWMUU90mk-",
        "colab_type": "code",
        "outputId": "673252fb-a48a-4a05-857a-629a7280ca31",
        "colab": {}
      },
      "source": [
        "sum = 0\n",
        "for i in range(5):\n",
        "    for j in range(1,4):\n",
        "        sum = sum + abs(tab4_clean[0][i]*((tab4_clean[j][i]) - (tab2_clean[j-1][2])))\n",
        "print(\"Correlation(x3,x2): \",sum)  \n",
        "\n",
        "sum = 0\n",
        "for i in range(5):\n",
        "    for j in range(4,8):\n",
        "        sum = sum + abs(tab4_clean[0][i]*((tab4_clean[j][i]) - (tab2_clean[j-4][4])))\n",
        "print(\"Correlation(x5,x2): \",sum)  "
      ],
      "execution_count": 0,
      "outputs": [
        {
          "output_type": "stream",
          "text": [
            "Correlation(x3,x2):  0.21852500000000002\n",
            "Correlation(x5,x2):  0.12926000000000004\n"
          ],
          "name": "stdout"
        }
      ]
    },
    {
      "cell_type": "code",
      "metadata": {
        "id": "SbuCvZHV0mlA",
        "colab_type": "code",
        "outputId": "0852d50f-1f19-493f-82c1-93634a3c46dc",
        "colab": {}
      },
      "source": [
        "tab5 = pd.read_csv('Table5.csv')\n",
        "tab5.drop(['x3'],inplace=True,axis=1,errors = 'ignore')\n",
        "tab5_clean = np.zeros((tab5.shape[0],tab5.shape[1]))\n",
        "for i in range(len(tab5)):\n",
        "    for j in range(len(tab5.iloc[i])):\n",
        "        t = tab5.iloc[i][j].split(\"%\")[0]\n",
        "        tab5_clean[i][j] = float(t)/100\n",
        "print(tab5_clean)   "
      ],
      "execution_count": 0,
      "outputs": [
        {
          "output_type": "stream",
          "text": [
            "[[0.18   0.66   0.16  ]\n",
            " [0.194  0.311  0.219 ]\n",
            " [0.472  0.318  0.156 ]\n",
            " [0.028  0.0303 0.    ]\n",
            " [0.167  0.182  0.125 ]\n",
            " [0.139  0.159  0.5   ]\n",
            " [0.361  0.394  0.313 ]\n",
            " [0.083  0.114  0.125 ]\n",
            " [0.222  0.091  0.031 ]\n",
            " [0.333  0.402  0.531 ]\n",
            " [0.     0.023  0.    ]\n",
            " [0.389  0.318  0.25  ]\n",
            " [0.083  0.152  0.156 ]\n",
            " [0.361  0.303  0.313 ]\n",
            " [0.167  0.204  0.281 ]]\n"
          ],
          "name": "stdout"
        }
      ]
    },
    {
      "cell_type": "code",
      "metadata": {
        "id": "kr8TFr8b0mlD",
        "colab_type": "code",
        "outputId": "fb19c10a-af2e-46d8-f769-e48b0f6f64a3",
        "colab": {}
      },
      "source": [
        "sum = 0\n",
        "for i in range(3):\n",
        "    for j in range(1,6):\n",
        "        sum = sum + abs(tab5_clean[0][i]*((tab5_clean[j][i]) - (tab2_clean[j-1][1])))\n",
        "print(\"Correlation(x2,x3): \",sum)  \n",
        "\n",
        "\n",
        "sum = 0\n",
        "for i in range(3):\n",
        "    for j in range(6,10):\n",
        "        sum = sum + abs(tab5_clean[0][i]*((tab5_clean[j][i]) - (tab2_clean[j-6][4])))\n",
        "print(\"Correlation(x5,x3): \",sum)  \n",
        "\n",
        "\n",
        "sum = 0\n",
        "for i in range(3):\n",
        "    for j in range(10,15):\n",
        "        sum = sum + abs(tab5_clean[0][i]*((tab5_clean[j][i]) - (tab2_clean[j-10][5])))\n",
        "print(\"Correlation(x6,x3): \",sum)  "
      ],
      "execution_count": 0,
      "outputs": [
        {
          "output_type": "stream",
          "text": [
            "Correlation(x2,x3):  0.218758\n",
            "Correlation(x5,x3):  0.11551999999999996\n",
            "Correlation(x6,x3):  0.09564\n"
          ],
          "name": "stdout"
        }
      ]
    },
    {
      "cell_type": "code",
      "metadata": {
        "id": "w1H8ul8J0mlF",
        "colab_type": "code",
        "outputId": "a73c4dd9-dff7-4e34-e745-c2ecfec4ece4",
        "colab": {}
      },
      "source": [
        "tab6 = pd.read_csv('Table6.csv')\n",
        "tab6.drop(['x4'],inplace=True,axis=1,errors = 'ignore')\n",
        "tab6_clean = np.zeros((tab6.shape[0],tab6.shape[1]))\n",
        "for i in range(len(tab6)):\n",
        "    for j in range(len(tab6.iloc[i])):\n",
        "        t = tab6.iloc[i][j].split(\"%\")[0]\n",
        "        tab6_clean[i][j] = float(t)/100\n",
        "print(tab6_clean)   "
      ],
      "execution_count": 0,
      "outputs": [
        {
          "output_type": "stream",
          "text": [
            "[[0.715 0.105 0.01  0.17 ]\n",
            " [0.804 0.571 1.    0.794]\n",
            " [0.021 0.    0.    0.   ]\n",
            " [0.056 0.143 0.    0.   ]\n",
            " [0.119 0.286 0.    0.206]\n",
            " [0.308 0.238 0.    0.176]\n",
            " [0.322 0.286 1.    0.323]\n",
            " [0.028 0.    0.    0.029]\n",
            " [0.154 0.19  0.    0.235]\n",
            " [0.196 0.286 0.    0.235]\n",
            " [0.021 0.    0.    0.   ]\n",
            " [0.28  0.571 0.    0.353]\n",
            " [0.154 0.143 0.    0.088]\n",
            " [0.329 0.19  0.5   0.323]\n",
            " [0.217 0.095 0.5   0.235]]\n"
          ],
          "name": "stdout"
        }
      ]
    },
    {
      "cell_type": "code",
      "metadata": {
        "id": "6u2lECkt0mlI",
        "colab_type": "code",
        "outputId": "b8cf7865-d033-4578-a17f-57264cb7b3b0",
        "colab": {}
      },
      "source": [
        "sum = 0\n",
        "for i in range(4):\n",
        "    for j in range(1,5):\n",
        "        sum = sum + abs(tab6_clean[0][i]*((tab6_clean[j][i]) - (tab2_clean[j-1][0])))\n",
        "print(\"Correlation(x1,x4): \",sum)  \n",
        "\n",
        "\n",
        "sum = 0\n",
        "for i in range(4):\n",
        "    for j in range(5,10):\n",
        "        sum = sum + abs(tab6_clean[0][i]*((tab6_clean[j][i]) - (tab2_clean[j-5][1])))\n",
        "print(\"Correlation(x2,x4): \",sum) \n",
        "\n",
        "sum = 0\n",
        "for i in range(4):\n",
        "    for j in range(10,15):\n",
        "        sum = sum + abs(tab6_clean[0][i]*((tab6_clean[j][i]) - (tab2_clean[j-10][5])))\n",
        "print(\"Correlation(x6,x4): \",sum) \n",
        "\n"
      ],
      "execution_count": 0,
      "outputs": [
        {
          "output_type": "stream",
          "text": [
            "Correlation(x1,x4):  0.11956999999999998\n",
            "Correlation(x2,x4):  0.11569999999999998\n",
            "Correlation(x6,x4):  0.14346999999999993\n"
          ],
          "name": "stdout"
        }
      ]
    },
    {
      "cell_type": "code",
      "metadata": {
        "id": "VIjOoO3u0mlL",
        "colab_type": "code",
        "outputId": "1bf9e4f2-03fd-45e5-ec96-e87ba224c2a3",
        "colab": {}
      },
      "source": [
        "tab7 = pd.read_csv('Table7.csv')\n",
        "tab7.drop(['x5'],inplace=True,axis=1,errors = 'ignore')\n",
        "tab7_clean = np.zeros((tab7.shape[0],tab7.shape[1]))\n",
        "for i in range(len(tab7)):\n",
        "    for j in range(len(tab7.iloc[i])):\n",
        "        t = tab7.iloc[i][j].split(\"%\")[0]\n",
        "        tab7_clean[i][j] = float(t)/100\n",
        "print(tab7_clean)   "
      ],
      "execution_count": 0,
      "outputs": [
        {
          "output_type": "stream",
          "text": [
            "[[0.375 0.11  0.105 0.41 ]\n",
            " [0.307 0.182 0.286 0.268]\n",
            " [0.293 0.318 0.381 0.329]\n",
            " [0.04  0.091 0.    0.   ]\n",
            " [0.173 0.227 0.19  0.146]\n",
            " [0.182 0.182 0.143 0.256]\n",
            " [0.173 0.136 0.381 0.146]\n",
            " [0.693 0.682 0.571 0.646]\n",
            " [0.133 0.182 0.048 0.207]]\n"
          ],
          "name": "stdout"
        }
      ]
    },
    {
      "cell_type": "code",
      "metadata": {
        "id": "OMxfi7s00mlN",
        "colab_type": "code",
        "outputId": "c9668c12-2978-46e6-dabd-6ecbdbc5e21c",
        "colab": {}
      },
      "source": [
        "sum = 0\n",
        "for i in range(4):\n",
        "    for j in range(1,6):\n",
        "        sum = sum + abs(tab7_clean[0][i]*((tab7_clean[j][i]) - (tab2_clean[j-1][1])))\n",
        "print(\"Correlation(x2,x5): \",sum) \n",
        "\n",
        "\n",
        "sum = 0\n",
        "for i in range(4):\n",
        "    for j in range(6,9):\n",
        "        sum = sum + abs(tab7_clean[0][i]*((tab7_clean[j][i]) - (tab2_clean[j-6][2])))\n",
        "print(\"Correlation(x6,x5): \",sum) "
      ],
      "execution_count": 0,
      "outputs": [
        {
          "output_type": "stream",
          "text": [
            "Correlation(x2,x5):  0.131265\n",
            "Correlation(x6,x5):  0.115965\n"
          ],
          "name": "stdout"
        }
      ]
    },
    {
      "cell_type": "code",
      "metadata": {
        "id": "1Js8Npe80mlP",
        "colab_type": "code",
        "outputId": "fb8522a7-bc3a-476f-dd53-a642093b50e9",
        "colab": {}
      },
      "source": [
        "tab8 = pd.read_csv('Table8.csv')\n",
        "tab8.drop(['x6'],inplace=True,axis=1,errors = 'ignore')\n",
        "tab8_clean = np.zeros((tab8.shape[0],tab8.shape[1]))\n",
        "for i in range(len(tab8)):\n",
        "    for j in range(len(tab8.iloc[i])):\n",
        "        t = tab8.iloc[i][j].split(\"%\")[0]\n",
        "        tab8_clean[i][j] = float(t)/100\n",
        "print(tab8_clean)   "
      ],
      "execution_count": 0,
      "outputs": [
        {
          "output_type": "stream",
          "text": [
            "[[0.015 0.32  0.14  0.315 0.21 ]\n",
            " [1.    0.687 0.714 0.8   0.809]\n",
            " [0.    0.031 0.036 0.    0.   ]\n",
            " [0.    0.142 0.036 0.    0.048]\n",
            " [0.    0.14  0.214 0.2   0.143]\n",
            " [0.    0.281 0.214 0.317 0.262]\n",
            " [0.333 0.296 0.392 0.317 0.309]\n",
            " [0.    0.    0.    0.079 0.   ]\n",
            " [0.666 0.234 0.142 0.095 0.167]\n",
            " [0.    0.187 0.25  0.19  0.262]\n",
            " [0.173 0.136 0.381 0.146 0.143]\n",
            " [0.693 0.682 0.571 0.646 0.643]\n",
            " [0.133 0.182 0.041 0.207 0.214]\n",
            " [1.    0.625 0.786 0.746 0.738]\n",
            " [0.    0.187 0.107 0.063 0.048]\n",
            " [0.    0.    0.    0.016 0.024]\n",
            " [0.    0.187 0.107 0.175 0.19 ]]\n"
          ],
          "name": "stdout"
        }
      ]
    },
    {
      "cell_type": "code",
      "metadata": {
        "id": "EpSItd5G0mlS",
        "colab_type": "code",
        "outputId": "5ce2d7e2-9a14-4739-9520-bd4031c3706b",
        "colab": {}
      },
      "source": [
        "sum = 0\n",
        "for i in range(5):\n",
        "    for j in range(1,5):\n",
        "        sum = sum + abs(tab8_clean[0][i]*((tab8_clean[j][i]) - (tab2_clean[j-1][0])))\n",
        "print(\"Correlation(x1,x6): \",sum) \n",
        "\n",
        "sum = 0\n",
        "for i in range(5):\n",
        "    for j in range(5,10):\n",
        "        sum = sum + abs(tab8_clean[0][i]*((tab8_clean[j][i]) - (tab2_clean[j-5][1])))\n",
        "print(\"Correlation(x2,x6): \",sum) \n",
        "\n",
        "sum = 0\n",
        "for i in range(5):\n",
        "    for j in range(10,13):\n",
        "        sum = sum + abs(tab8_clean[0][i]*((tab8_clean[j][i]) - (tab2_clean[j-10][2])))\n",
        "print(\"Correlation(x3,x6): \",sum) \n",
        "\n",
        "sum = 0\n",
        "for i in range(5):\n",
        "    for j in range(13,17):\n",
        "        sum = sum + abs((tab8_clean[0][i]*tab8_clean[j][i]) - (tab8_clean[0][i]*tab2_clean[j-13][3]))\n",
        "print(\"Correlation(x4,x6): \",sum) "
      ],
      "execution_count": 0,
      "outputs": [
        {
          "output_type": "stream",
          "text": [
            "Correlation(x1,x6):  0.15259999999999999\n",
            "Correlation(x2,x6):  0.17531500000000005\n",
            "Correlation(x3,x6):  0.13903000000000001\n",
            "Correlation(x4,x6):  0.14307000000000003\n"
          ],
          "name": "stdout"
        }
      ]
    },
    {
      "cell_type": "code",
      "metadata": {
        "id": "wgeC4meA0mlV",
        "colab_type": "code",
        "outputId": "6127c2a9-76ee-4906-df52-c6f289e4a773",
        "colab": {}
      },
      "source": [
        "from pgmpy.factors.discrete import TabularCPD\n",
        "from pgmpy.models import BayesianModel\n",
        "from pgmpy.sampling import BayesianModelSampling\n",
        "from pgmpy.estimators import K2Score\n",
        "\n",
        "\n",
        "#Creating Conditional Probability Distribution tables\n",
        "x21_cpd = TabularCPD('x2',5,[tab3_clean[1,:],tab3_clean[2,:],tab3_clean[3,:],tab3_clean[4,:],tab3_clean[5,:]],evidence=['x1'],evidence_card=[4])\n",
        "print(x21_cpd)\n",
        "\n",
        "x41_cpd=  TabularCPD('x4',4,[tab3_clean[6,:],tab3_clean[7,:],tab3_clean[8,:],tab3_clean[9,:]],evidence=['x1'],evidence_card=[4])\n",
        "print(x41_cpd)\n",
        "\n",
        "x61_cpd=  TabularCPD('x6',5,[tab3_clean[10,:],tab3_clean[11,:],tab3_clean[12,:],tab3_clean[13,:],tab3_clean[14,:]],evidence=['x1'],evidence_card=[4])\n",
        "print(x61_cpd)\n",
        "\n",
        "print(x21_cpd.is_valid_cpd())\n",
        "print(x41_cpd.is_valid_cpd())\n",
        "print(x61_cpd.is_valid_cpd())"
      ],
      "execution_count": 0,
      "outputs": [
        {
          "output_type": "stream",
          "text": [
            "+------+----------------------+---------------------+-------+---------------------+\n",
            "| x1   | x1_0                 | x1_1                | x1_2  | x1_3                |\n",
            "+------+----------------------+---------------------+-------+---------------------+\n",
            "| x2_0 | 0.231                | 0.6659999999999999  | 0.455 | 0.4                 |\n",
            "+------+----------------------+---------------------+-------+---------------------+\n",
            "| x2_1 | 0.365                | 0.0                 | 0.091 | 0.2                 |\n",
            "+------+----------------------+---------------------+-------+---------------------+\n",
            "| x2_2 | 0.026000000000000002 | 0.0                 | 0.0   | 0.033               |\n",
            "+------+----------------------+---------------------+-------+---------------------+\n",
            "| x2_3 | 0.17300000000000001  | 0.0                 | 0.182 | 0.16699999999999998 |\n",
            "+------+----------------------+---------------------+-------+---------------------+\n",
            "| x2_4 | 0.205                | 0.33299999999999996 | 0.273 | 0.2                 |\n",
            "+------+----------------------+---------------------+-------+---------------------+\n",
            "+------+----------------------+------+-------+--------------------+\n",
            "| x1   | x1_0                 | x1_1 | x1_2  | x1_3               |\n",
            "+------+----------------------+------+-------+--------------------+\n",
            "| x4_0 | 0.737                | 1.0  | 0.727 | 0.5670000000000001 |\n",
            "+------+----------------------+------+-------+--------------------+\n",
            "| x4_1 | 0.077                | 0.0  | 0.273 | 0.2                |\n",
            "+------+----------------------+------+-------+--------------------+\n",
            "| x4_2 | 0.013000000000000001 | 0.0  | 0.0   | 0.0                |\n",
            "+------+----------------------+------+-------+--------------------+\n",
            "| x4_3 | 0.17300000000000001  | 0.0  | 0.0   | 0.233              |\n",
            "+------+----------------------+------+-------+--------------------+\n",
            "+------+---------------------+---------------------+-------+------+\n",
            "| x1   | x1_0                | x1_1                | x1_2  | x1_3 |\n",
            "+------+---------------------+---------------------+-------+------+\n",
            "| x6_0 | 0.019               | 0.0                 | 0.0   | 0.0  |\n",
            "+------+---------------------+---------------------+-------+------+\n",
            "| x6_1 | 0.282               | 0.6659999999999999  | 0.545 | 0.4  |\n",
            "+------+---------------------+---------------------+-------+------+\n",
            "| x6_2 | 0.128               | 0.33299999999999996 | 0.091 | 0.2  |\n",
            "+------+---------------------+---------------------+-------+------+\n",
            "| x6_3 | 0.35200000000000004 | 0.0                 | 0.182 | 0.2  |\n",
            "+------+---------------------+---------------------+-------+------+\n",
            "| x6_4 | 0.218               | 0.0                 | 0.182 | 0.2  |\n",
            "+------+---------------------+---------------------+-------+------+\n",
            "True\n",
            "True\n",
            "True\n"
          ],
          "name": "stdout"
        }
      ]
    },
    {
      "cell_type": "code",
      "metadata": {
        "id": "Hxz_bTWf0mlX",
        "colab_type": "code",
        "outputId": "e694f295-2a29-409d-c8fe-19f3b873055f",
        "colab": {}
      },
      "source": [
        "x32_cpd = TabularCPD('x3',3,[tab4_clean[1,:],tab4_clean[2,:],tab4_clean[3,:]],evidence=['x2'],evidence_card=[5])\n",
        "print(x32_cpd)\n",
        "\n",
        "x52_cpd = TabularCPD('x5',4,[tab4_clean[4,:],tab4_clean[5,:],tab4_clean[6,:],tab4_clean[7,:]],evidence=['x2'],evidence_card=[5])\n",
        "print(x52_cpd)\n",
        "\n",
        "print(x32_cpd.is_valid_cpd())\n",
        "print(x52_cpd.is_valid_cpd())"
      ],
      "execution_count": 0,
      "outputs": [
        {
          "output_type": "stream",
          "text": [
            "+------+-------+--------------------+------+---------------------+---------------------+\n",
            "| x2   | x2_0  | x2_1               | x2_2 | x2_3                | x2_4                |\n",
            "+------+-------+--------------------+------+---------------------+---------------------+\n",
            "| x3_0 | 0.127 | 0.266              | 0.2  | 0.17600000000000002 | 0.11900000000000001 |\n",
            "+------+-------+--------------------+------+---------------------+---------------------+\n",
            "| x3_1 | 0.745 | 0.6559999999999999 | 0.8  | 0.706               | 0.5                 |\n",
            "+------+-------+--------------------+------+---------------------+---------------------+\n",
            "| x3_2 | 0.127 | 0.078              | 0.0  | 0.11800000000000001 | 0.381               |\n",
            "+------+-------+--------------------+------+---------------------+---------------------+\n",
            "+------+-------+---------------------+------+---------------------+---------------------+\n",
            "| x2   | x2_0  | x2_1                | x2_2 | x2_3                | x2_4                |\n",
            "+------+-------+---------------------+------+---------------------+---------------------+\n",
            "| x5_0 | 0.418 | 0.344               | 0.6  | 0.382               | 0.33399999999999996 |\n",
            "+------+-------+---------------------+------+---------------------+---------------------+\n",
            "| x5_1 | 0.073 | 0.109               | 0.4  | 0.147               | 0.095               |\n",
            "+------+-------+---------------------+------+---------------------+---------------------+\n",
            "| x5_2 | 0.109 | 0.125               | 0.0  | 0.11800000000000001 | 0.071               |\n",
            "+------+-------+---------------------+------+---------------------+---------------------+\n",
            "| x5_3 | 0.4   | 0.42200000000000004 | 0.0  | 0.353               | 0.5                 |\n",
            "+------+-------+---------------------+------+---------------------+---------------------+\n",
            "True\n",
            "True\n"
          ],
          "name": "stdout"
        }
      ]
    },
    {
      "cell_type": "code",
      "metadata": {
        "id": "TOL6cC5b0mla",
        "colab_type": "code",
        "outputId": "b7fed3b6-7519-4176-b90e-470350407583",
        "colab": {}
      },
      "source": [
        "x23_cpd = TabularCPD('x2',5,[tab5_clean[1,:],tab5_clean[2,:],tab5_clean[3,:],tab5_clean[4,:],tab5_clean[5,:]],evidence=['x3'],evidence_card=[3])\n",
        "print(x23_cpd)\n",
        "\n",
        "x53_cpd = TabularCPD('x5',4,[tab5_clean[6,:],tab5_clean[7,:],tab5_clean[8,:],tab5_clean[9,:]],evidence=['x3'],evidence_card=[3])\n",
        "print(x53_cpd)\n",
        "\n",
        "x63_cpd = TabularCPD('x6',5,[tab5_clean[10,:],tab5_clean[11,:],tab5_clean[12,:],tab5_clean[13,:],tab5_clean[14,:]],evidence=['x3'],evidence_card=[3])\n",
        "print(x63_cpd)\n",
        "\n",
        "print(x23_cpd.is_valid_cpd())\n",
        "print(x53_cpd.is_valid_cpd())\n",
        "print(x63_cpd.is_valid_cpd())"
      ],
      "execution_count": 0,
      "outputs": [
        {
          "output_type": "stream",
          "text": [
            "+------+----------------------+----------------------+---------------------+\n",
            "| x3   | x3_0                 | x3_1                 | x3_2                |\n",
            "+------+----------------------+----------------------+---------------------+\n",
            "| x2_0 | 0.19399999999999998  | 0.311                | 0.21899999999999997 |\n",
            "+------+----------------------+----------------------+---------------------+\n",
            "| x2_1 | 0.47200000000000003  | 0.318                | 0.156               |\n",
            "+------+----------------------+----------------------+---------------------+\n",
            "| x2_2 | 0.027999999999999997 | 0.030299999999999997 | 0.0                 |\n",
            "+------+----------------------+----------------------+---------------------+\n",
            "| x2_3 | 0.16699999999999998  | 0.182                | 0.125               |\n",
            "+------+----------------------+----------------------+---------------------+\n",
            "| x2_4 | 0.139                | 0.159                | 0.5                 |\n",
            "+------+----------------------+----------------------+---------------------+\n",
            "+------+---------------------+---------------------+-------+\n",
            "| x3   | x3_0                | x3_1                | x3_2  |\n",
            "+------+---------------------+---------------------+-------+\n",
            "| x5_0 | 0.361               | 0.39399999999999996 | 0.313 |\n",
            "+------+---------------------+---------------------+-------+\n",
            "| x5_1 | 0.083               | 0.114               | 0.125 |\n",
            "+------+---------------------+---------------------+-------+\n",
            "| x5_2 | 0.222               | 0.091               | 0.031 |\n",
            "+------+---------------------+---------------------+-------+\n",
            "| x5_3 | 0.33299999999999996 | 0.402               | 0.531 |\n",
            "+------+---------------------+---------------------+-------+\n",
            "+------+---------------------+-------+-------+\n",
            "| x3   | x3_0                | x3_1  | x3_2  |\n",
            "+------+---------------------+-------+-------+\n",
            "| x6_0 | 0.0                 | 0.023 | 0.0   |\n",
            "+------+---------------------+-------+-------+\n",
            "| x6_1 | 0.389               | 0.318 | 0.25  |\n",
            "+------+---------------------+-------+-------+\n",
            "| x6_2 | 0.083               | 0.152 | 0.156 |\n",
            "+------+---------------------+-------+-------+\n",
            "| x6_3 | 0.361               | 0.303 | 0.313 |\n",
            "+------+---------------------+-------+-------+\n",
            "| x6_4 | 0.16699999999999998 | 0.204 | 0.281 |\n",
            "+------+---------------------+-------+-------+\n",
            "True\n",
            "True\n",
            "True\n"
          ],
          "name": "stdout"
        }
      ]
    },
    {
      "cell_type": "code",
      "metadata": {
        "id": "neRUo84P0mld",
        "colab_type": "code",
        "outputId": "cbaa87e0-db6b-4f25-a2f0-e06a644c5d5d",
        "colab": {}
      },
      "source": [
        "x14_cpd = TabularCPD('x1',4,[tab6_clean[1,:],tab6_clean[2,:],tab6_clean[3,:],tab6_clean[4,:]],evidence=['x4'],evidence_card=[4])\n",
        "print(x14_cpd)\n",
        "\n",
        "x24_cpd = TabularCPD('x2',5,[tab6_clean[5,:],tab6_clean[6,:],tab6_clean[7,:],tab6_clean[8,:],tab6_clean[9,:]],evidence=['x4'],evidence_card=[4])\n",
        "print(x24_cpd)\n",
        "\n",
        "x64_cpd = TabularCPD('x6',5,[tab6_clean[10,:],tab6_clean[11,:],tab6_clean[12,:],tab6_clean[13,:],tab6_clean[14,:]],evidence=['x4'],evidence_card=[4])\n",
        "print(x64_cpd)\n",
        "\n",
        "print(x14_cpd.is_valid_cpd())\n",
        "print(x24_cpd.is_valid_cpd())\n",
        "print(x64_cpd.is_valid_cpd())"
      ],
      "execution_count": 0,
      "outputs": [
        {
          "output_type": "stream",
          "text": [
            "+------+----------------------+---------------------+------+---------------------+\n",
            "| x4   | x4_0                 | x4_1                | x4_2 | x4_3                |\n",
            "+------+----------------------+---------------------+------+---------------------+\n",
            "| x1_0 | 0.804                | 0.5710000000000001  | 1.0  | 0.794               |\n",
            "+------+----------------------+---------------------+------+---------------------+\n",
            "| x1_1 | 0.021                | 0.0                 | 0.0  | 0.0                 |\n",
            "+------+----------------------+---------------------+------+---------------------+\n",
            "| x1_2 | 0.055999999999999994 | 0.14300000000000002 | 0.0  | 0.0                 |\n",
            "+------+----------------------+---------------------+------+---------------------+\n",
            "| x1_3 | 0.11900000000000001  | 0.28600000000000003 | 0.0  | 0.20600000000000002 |\n",
            "+------+----------------------+---------------------+------+---------------------+\n",
            "+------+----------------------+---------------------+------+----------------------+\n",
            "| x4   | x4_0                 | x4_1                | x4_2 | x4_3                 |\n",
            "+------+----------------------+---------------------+------+----------------------+\n",
            "| x2_0 | 0.308                | 0.23800000000000002 | 0.0  | 0.17600000000000002  |\n",
            "+------+----------------------+---------------------+------+----------------------+\n",
            "| x2_1 | 0.322                | 0.28600000000000003 | 1.0  | 0.32299999999999995  |\n",
            "+------+----------------------+---------------------+------+----------------------+\n",
            "| x2_2 | 0.027999999999999997 | 0.0                 | 0.0  | 0.028999999999999998 |\n",
            "+------+----------------------+---------------------+------+----------------------+\n",
            "| x2_3 | 0.154                | 0.19                | 0.0  | 0.235                |\n",
            "+------+----------------------+---------------------+------+----------------------+\n",
            "| x2_4 | 0.196                | 0.28600000000000003 | 0.0  | 0.235                |\n",
            "+------+----------------------+---------------------+------+----------------------+\n",
            "+------+---------------------+---------------------+------+---------------------+\n",
            "| x4   | x4_0                | x4_1                | x4_2 | x4_3                |\n",
            "+------+---------------------+---------------------+------+---------------------+\n",
            "| x6_0 | 0.021               | 0.0                 | 0.0  | 0.0                 |\n",
            "+------+---------------------+---------------------+------+---------------------+\n",
            "| x6_1 | 0.28                | 0.5710000000000001  | 0.0  | 0.353               |\n",
            "+------+---------------------+---------------------+------+---------------------+\n",
            "| x6_2 | 0.154               | 0.14300000000000002 | 0.0  | 0.08800000000000001 |\n",
            "+------+---------------------+---------------------+------+---------------------+\n",
            "| x6_3 | 0.32899999999999996 | 0.19                | 0.5  | 0.32299999999999995 |\n",
            "+------+---------------------+---------------------+------+---------------------+\n",
            "| x6_4 | 0.217               | 0.095               | 0.5  | 0.235               |\n",
            "+------+---------------------+---------------------+------+---------------------+\n",
            "True\n",
            "True\n",
            "True\n"
          ],
          "name": "stdout"
        }
      ]
    },
    {
      "cell_type": "code",
      "metadata": {
        "id": "Jmpxark20mlg",
        "colab_type": "code",
        "outputId": "75b252f4-3e61-45c6-a5fc-eeeae6f6cdc5",
        "colab": {}
      },
      "source": [
        "x25_cpd = TabularCPD('x2',5,[tab7_clean[1,:],tab7_clean[2,:],tab7_clean[3,:],tab7_clean[4,:],tab7_clean[5,:]],evidence=['x5'],evidence_card=[4])\n",
        "print(x25_cpd)\n",
        "\n",
        "\n",
        "x35_cpd = TabularCPD('x3',3,[tab7_clean[6,:],tab7_clean[7,:],tab7_clean[8,:]],evidence=['x5'],evidence_card=[4])\n",
        "print(x35_cpd)\n",
        "\n",
        "print(x25_cpd.is_valid_cpd())\n",
        "print(x35_cpd.is_valid_cpd())"
      ],
      "execution_count": 0,
      "outputs": [
        {
          "output_type": "stream",
          "text": [
            "+------+---------------------+---------------------+---------------------+---------------------+\n",
            "| x5   | x5_0                | x5_1                | x5_2                | x5_3                |\n",
            "+------+---------------------+---------------------+---------------------+---------------------+\n",
            "| x2_0 | 0.307               | 0.182               | 0.28600000000000003 | 0.268               |\n",
            "+------+---------------------+---------------------+---------------------+---------------------+\n",
            "| x2_1 | 0.293               | 0.318               | 0.381               | 0.32899999999999996 |\n",
            "+------+---------------------+---------------------+---------------------+---------------------+\n",
            "| x2_2 | 0.04                | 0.091               | 0.0                 | 0.0                 |\n",
            "+------+---------------------+---------------------+---------------------+---------------------+\n",
            "| x2_3 | 0.17300000000000001 | 0.22699999999999998 | 0.19                | 0.146               |\n",
            "+------+---------------------+---------------------+---------------------+---------------------+\n",
            "| x2_4 | 0.182               | 0.182               | 0.14300000000000002 | 0.256               |\n",
            "+------+---------------------+---------------------+---------------------+---------------------+\n",
            "+------+---------------------+-------+--------------------+--------------------+\n",
            "| x5   | x5_0                | x5_1  | x5_2               | x5_3               |\n",
            "+------+---------------------+-------+--------------------+--------------------+\n",
            "| x3_0 | 0.17300000000000001 | 0.136 | 0.381              | 0.146              |\n",
            "+------+---------------------+-------+--------------------+--------------------+\n",
            "| x3_1 | 0.693               | 0.682 | 0.5710000000000001 | 0.6459999999999999 |\n",
            "+------+---------------------+-------+--------------------+--------------------+\n",
            "| x3_2 | 0.133               | 0.182 | 0.048              | 0.207              |\n",
            "+------+---------------------+-------+--------------------+--------------------+\n",
            "True\n",
            "True\n"
          ],
          "name": "stdout"
        }
      ]
    },
    {
      "cell_type": "code",
      "metadata": {
        "scrolled": true,
        "id": "hNzwBbId0mli",
        "colab_type": "code",
        "outputId": "21e02f0f-9e37-459c-b664-1e2c69bb1d9b",
        "colab": {}
      },
      "source": [
        "x16_cpd = TabularCPD('x1',4,[tab8_clean[1,:],tab8_clean[2,:],tab8_clean[3,:],tab8_clean[4,:]],evidence=['x6'],evidence_card=[5])\n",
        "print(x16_cpd)\n",
        "\n",
        "x26_cpd = TabularCPD('x2',5,[tab8_clean[5,:],tab8_clean[6,:],tab8_clean[7,:],tab8_clean[8,:],tab8_clean[9,:]],evidence=['x6'],evidence_card=[5])\n",
        "print(x26_cpd)\n",
        "\n",
        "x36_cpd = TabularCPD('x3',3,[tab8_clean[10,:],tab8_clean[11,:],tab8_clean[12,:]],evidence=['x6'],evidence_card=[5])\n",
        "print(x36_cpd)\n",
        "\n",
        "x46_cpd = TabularCPD('x4',4,[tab8_clean[13,:],tab8_clean[14,:],tab8_clean[15,:],tab8_clean[16,:]],evidence=['x6'],evidence_card=[5])\n",
        "print(x46_cpd)\n",
        "\n",
        "print(x16_cpd.is_valid_cpd())\n",
        "print(x26_cpd.is_valid_cpd())\n",
        "print(x36_cpd.is_valid_cpd())\n",
        "print(x46_cpd.is_valid_cpd())"
      ],
      "execution_count": 0,
      "outputs": [
        {
          "output_type": "stream",
          "text": [
            "+------+------+-------+----------------------+------+---------------------+\n",
            "| x6   | x6_0 | x6_1  | x6_2                 | x6_3 | x6_4                |\n",
            "+------+------+-------+----------------------+------+---------------------+\n",
            "| x1_0 | 1.0  | 0.687 | 0.7140000000000001   | 0.8  | 0.809               |\n",
            "+------+------+-------+----------------------+------+---------------------+\n",
            "| x1_1 | 0.0  | 0.031 | 0.036000000000000004 | 0.0  | 0.0                 |\n",
            "+------+------+-------+----------------------+------+---------------------+\n",
            "| x1_2 | 0.0  | 0.142 | 0.036000000000000004 | 0.0  | 0.048               |\n",
            "+------+------+-------+----------------------+------+---------------------+\n",
            "| x1_3 | 0.0  | 0.14  | 0.214                | 0.2  | 0.14300000000000002 |\n",
            "+------+------+-------+----------------------+------+---------------------+\n",
            "+------+---------------------+---------------------+-------+-------+---------------------+\n",
            "| x6   | x6_0                | x6_1                | x6_2  | x6_3  | x6_4                |\n",
            "+------+---------------------+---------------------+-------+-------+---------------------+\n",
            "| x2_0 | 0.0                 | 0.281               | 0.214 | 0.317 | 0.262               |\n",
            "+------+---------------------+---------------------+-------+-------+---------------------+\n",
            "| x2_1 | 0.33299999999999996 | 0.29600000000000004 | 0.392 | 0.317 | 0.309               |\n",
            "+------+---------------------+---------------------+-------+-------+---------------------+\n",
            "| x2_2 | 0.0                 | 0.0                 | 0.0   | 0.079 | 0.0                 |\n",
            "+------+---------------------+---------------------+-------+-------+---------------------+\n",
            "| x2_3 | 0.6659999999999999  | 0.23399999999999999 | 0.142 | 0.095 | 0.16699999999999998 |\n",
            "+------+---------------------+---------------------+-------+-------+---------------------+\n",
            "| x2_4 | 0.0                 | 0.187               | 0.25  | 0.19  | 0.262               |\n",
            "+------+---------------------+---------------------+-------+-------+---------------------+\n",
            "+------+---------------------+-------+----------------------+--------------------+---------------------+\n",
            "| x6   | x6_0                | x6_1  | x6_2                 | x6_3               | x6_4                |\n",
            "+------+---------------------+-------+----------------------+--------------------+---------------------+\n",
            "| x3_0 | 0.17300000000000001 | 0.136 | 0.381                | 0.146              | 0.14300000000000002 |\n",
            "+------+---------------------+-------+----------------------+--------------------+---------------------+\n",
            "| x3_1 | 0.693               | 0.682 | 0.5710000000000001   | 0.6459999999999999 | 0.643               |\n",
            "+------+---------------------+-------+----------------------+--------------------+---------------------+\n",
            "| x3_2 | 0.133               | 0.182 | 0.040999999999999995 | 0.207              | 0.214               |\n",
            "+------+---------------------+-------+----------------------+--------------------+---------------------+\n",
            "+------+------+-------+--------------------+-------+-------+\n",
            "| x6   | x6_0 | x6_1  | x6_2               | x6_3  | x6_4  |\n",
            "+------+------+-------+--------------------+-------+-------+\n",
            "| x4_0 | 1.0  | 0.625 | 0.7859999999999999 | 0.746 | 0.738 |\n",
            "+------+------+-------+--------------------+-------+-------+\n",
            "| x4_1 | 0.0  | 0.187 | 0.107              | 0.063 | 0.048 |\n",
            "+------+------+-------+--------------------+-------+-------+\n",
            "| x4_2 | 0.0  | 0.0   | 0.0                | 0.016 | 0.024 |\n",
            "+------+------+-------+--------------------+-------+-------+\n",
            "| x4_3 | 0.0  | 0.187 | 0.107              | 0.175 | 0.19  |\n",
            "+------+------+-------+--------------------+-------+-------+\n",
            "True\n",
            "True\n",
            "True\n",
            "True\n"
          ],
          "name": "stdout"
        }
      ]
    },
    {
      "cell_type": "code",
      "metadata": {
        "id": "CgACa0mP0mll",
        "colab_type": "code",
        "outputId": "af7b0774-66e5-4dc1-e6ec-189410083de9",
        "colab": {}
      },
      "source": [
        "x1_cpd = TabularCPD('x1',4,[tab2_clean[0:4,0]])\n",
        "print(x1_cpd)\n",
        "\n",
        "x2_cpd = TabularCPD('x2',5,[tab2_clean[0:5,1]])\n",
        "print(x2_cpd)\n",
        "\n",
        "x3_cpd = TabularCPD('x3',3,[tab2_clean[0:3,2]])\n",
        "print(x3_cpd)\n",
        "\n",
        "x4_cpd = TabularCPD('x4',4,[tab2_clean[0:4,3]])\n",
        "print(x4_cpd)\n",
        "\n",
        "x5_cpd = TabularCPD('x5',4,[tab2_clean[0:4,4]])\n",
        "print(x5_cpd)\n",
        "\n",
        "x6_cpd = TabularCPD('x6',5,[tab2_clean[0:5,5]])\n",
        "print(x6_cpd)\n",
        "\n",
        "print(x1_cpd.is_valid_cpd())\n",
        "print(x2_cpd.is_valid_cpd())\n",
        "print(x3_cpd.is_valid_cpd())\n",
        "print(x4_cpd.is_valid_cpd())\n",
        "print(x5_cpd.is_valid_cpd())\n",
        "print(x6_cpd.is_valid_cpd())"
      ],
      "execution_count": 0,
      "outputs": [
        {
          "output_type": "stream",
          "text": [
            "+------+-------+\n",
            "| x1_0 | 0.78  |\n",
            "+------+-------+\n",
            "| x1_1 | 0.015 |\n",
            "+------+-------+\n",
            "| x1_2 | 0.055 |\n",
            "+------+-------+\n",
            "| x1_3 | 0.15  |\n",
            "+------+-------+\n",
            "+------+-------+\n",
            "| x2_0 | 0.275 |\n",
            "+------+-------+\n",
            "| x2_1 | 0.32  |\n",
            "+------+-------+\n",
            "| x2_2 | 0.025 |\n",
            "+------+-------+\n",
            "| x2_3 | 0.17  |\n",
            "+------+-------+\n",
            "| x2_4 | 0.21  |\n",
            "+------+-------+\n",
            "+------+------+\n",
            "| x3_0 | 0.18 |\n",
            "+------+------+\n",
            "| x3_1 | 0.66 |\n",
            "+------+------+\n",
            "| x3_2 | 0.16 |\n",
            "+------+------+\n",
            "+------+-------+\n",
            "| x4_0 | 0.715 |\n",
            "+------+-------+\n",
            "| x4_1 | 0.105 |\n",
            "+------+-------+\n",
            "| x4_2 | 0.01  |\n",
            "+------+-------+\n",
            "| x4_3 | 0.17  |\n",
            "+------+-------+\n",
            "+------+-------+\n",
            "| x5_0 | 0.375 |\n",
            "+------+-------+\n",
            "| x5_1 | 0.11  |\n",
            "+------+-------+\n",
            "| x5_2 | 0.105 |\n",
            "+------+-------+\n",
            "| x5_3 | 0.41  |\n",
            "+------+-------+\n",
            "+------+-------+\n",
            "| x6_0 | 0.015 |\n",
            "+------+-------+\n",
            "| x6_1 | 0.32  |\n",
            "+------+-------+\n",
            "| x6_2 | 0.14  |\n",
            "+------+-------+\n",
            "| x6_3 | 0.315 |\n",
            "+------+-------+\n",
            "| x6_4 | 0.21  |\n",
            "+------+-------+\n",
            "True\n",
            "True\n",
            "True\n",
            "True\n",
            "True\n",
            "True\n"
          ],
          "name": "stdout"
        }
      ]
    },
    {
      "cell_type": "markdown",
      "metadata": {
        "id": "oBUrJLLI0mlo",
        "colab_type": "text"
      },
      "source": [
        "## Baysian network construction and inference"
      ]
    },
    {
      "cell_type": "code",
      "metadata": {
        "id": "pXrQ6kp20mlo",
        "colab_type": "code",
        "outputId": "39924abf-e81f-4826-9b51-a18a6d7bdfee",
        "colab": {}
      },
      "source": [
        "network= BayesianModel()\n",
        "network.add_nodes_from(['x1','x2','x3','x4','x5','x6'])\n",
        "network.add_edges_from([('x1','x2'),('x1','x4'),('x1','x6'),('x2','x5'),('x2','x3')])\n",
        "network.add_cpds(x1_cpd,x21_cpd,x41_cpd,x61_cpd,x52_cpd,x32_cpd)\n",
        "network.check_model()\n",
        "infer = BayesianModelSampling(network)\n",
        "inference=infer.forward_sample(size=1000, return_type='dataframe')\n",
        "print(inference)\n",
        "k2 = K2Score(inference)\n",
        "print(str(k2.score(network)))\n",
        "\n",
        "\n",
        "\n",
        "# esti = ConstraintBasedEstimator(inference)\n",
        "# print(esti.estimate(significance_level=0.9).edges())\n",
        "\n",
        "\n"
      ],
      "execution_count": 0,
      "outputs": [
        {
          "output_type": "stream",
          "text": [
            "     x1  x2  x5  x3  x4  x6\n",
            "0     0   1   0   1   1   4\n",
            "1     0   0   1   1   0   4\n",
            "2     3   4   0   1   1   2\n",
            "3     0   3   1   1   3   1\n",
            "4     3   2   0   0   1   4\n",
            "5     0   1   2   1   0   1\n",
            "6     0   1   3   1   0   2\n",
            "7     0   3   3   1   0   3\n",
            "8     0   2   0   1   0   2\n",
            "9     0   0   2   0   3   1\n",
            "10    3   1   0   1   0   3\n",
            "11    0   0   0   1   3   4\n",
            "12    0   3   3   1   0   1\n",
            "13    0   1   3   2   0   2\n",
            "14    0   0   3   1   0   3\n",
            "15    0   0   3   1   3   3\n",
            "16    0   0   0   0   0   1\n",
            "17    2   3   3   1   0   3\n",
            "18    0   4   3   1   0   1\n",
            "19    0   1   3   2   0   2\n",
            "20    0   4   2   1   0   2\n",
            "21    2   0   3   1   0   1\n",
            "22    2   0   3   1   1   1\n",
            "23    3   3   0   0   0   2\n",
            "24    0   1   0   1   0   3\n",
            "25    0   4   3   1   0   2\n",
            "26    0   4   3   2   0   3\n",
            "27    0   0   3   1   0   1\n",
            "28    3   1   0   0   0   3\n",
            "29    2   4   0   1   0   1\n",
            "..   ..  ..  ..  ..  ..  ..\n",
            "970   0   1   0   1   3   2\n",
            "971   0   3   1   1   0   1\n",
            "972   2   0   0   1   1   1\n",
            "973   0   3   1   2   0   3\n",
            "974   0   3   3   1   0   1\n",
            "975   0   1   1   1   0   1\n",
            "976   3   4   0   2   0   2\n",
            "977   0   0   0   2   0   1\n",
            "978   1   0   0   1   0   1\n",
            "979   0   4   1   1   0   4\n",
            "980   3   1   3   1   0   3\n",
            "981   3   4   3   1   1   2\n",
            "982   0   3   1   0   0   1\n",
            "983   0   1   0   1   0   1\n",
            "984   0   0   0   1   0   3\n",
            "985   3   4   0   1   3   1\n",
            "986   0   1   1   1   0   4\n",
            "987   0   0   1   1   0   3\n",
            "988   0   0   0   2   0   1\n",
            "989   0   0   2   1   0   2\n",
            "990   0   1   1   1   0   1\n",
            "991   0   3   3   1   0   2\n",
            "992   0   1   0   1   3   1\n",
            "993   0   1   1   1   0   3\n",
            "994   2   3   2   1   1   4\n",
            "995   0   1   3   1   0   1\n",
            "996   0   1   3   1   0   2\n",
            "997   0   3   0   0   0   1\n",
            "998   0   0   0   1   0   3\n",
            "999   0   1   3   1   0   1\n",
            "\n",
            "[1000 rows x 6 columns]\n",
            "-6367.944234899049\n"
          ],
          "name": "stdout"
        }
      ]
    },
    {
      "cell_type": "code",
      "metadata": {
        "id": "DBtDzCsD0mlq",
        "colab_type": "code",
        "outputId": "69147c13-1770-4639-c535-d7f5e6c1484d",
        "colab": {}
      },
      "source": [
        "network1= BayesianModel()\n",
        "network1.add_nodes_from(['x1','x2','x3','x4','x5','x6'])\n",
        "network1.add_edges_from([('x2','x3'),('x2','x5'),('x3','x6'),('x6','x1'),('x6','x4')])\n",
        "network1.add_cpds(x2_cpd,x32_cpd,x52_cpd,x63_cpd,x16_cpd,x46_cpd)\n",
        "network1.check_model()\n",
        "infer1 = BayesianModelSampling(network1)\n",
        "inference1=infer1.forward_sample(size=1000, return_type='dataframe')\n",
        "print(inference1)\n",
        "k2_1 = K2Score(inference1)\n",
        "print(str(k2_1.score(network1)))\n"
      ],
      "execution_count": 0,
      "outputs": [
        {
          "output_type": "stream",
          "text": [
            "     x2  x3  x6  x4  x5  x1\n",
            "0     1   0   4   0   3   0\n",
            "1     3   1   3   1   3   0\n",
            "2     1   1   4   0   0   0\n",
            "3     1   0   4   3   1   0\n",
            "4     0   1   4   3   0   0\n",
            "5     4   1   1   0   0   3\n",
            "6     3   1   1   3   3   0\n",
            "7     3   1   3   0   3   0\n",
            "8     1   1   2   0   0   0\n",
            "9     1   1   2   0   0   0\n",
            "10    0   1   4   0   3   0\n",
            "11    1   1   3   0   3   0\n",
            "12    1   0   3   0   0   0\n",
            "13    1   1   1   0   3   0\n",
            "14    0   0   1   0   0   1\n",
            "15    0   0   3   1   3   0\n",
            "16    4   2   1   0   3   0\n",
            "17    4   2   4   3   0   0\n",
            "18    4   2   3   3   1   0\n",
            "19    1   1   1   0   2   0\n",
            "20    0   0   3   0   3   0\n",
            "21    0   1   1   0   1   0\n",
            "22    4   2   1   0   3   0\n",
            "23    0   2   1   1   0   0\n",
            "24    0   1   2   0   3   3\n",
            "25    3   1   4   0   3   0\n",
            "26    4   1   1   0   0   3\n",
            "27    1   1   3   0   0   0\n",
            "28    1   1   1   0   1   0\n",
            "29    2   1   1   0   0   0\n",
            "..   ..  ..  ..  ..  ..  ..\n",
            "970   1   1   2   0   3   0\n",
            "971   1   0   3   3   3   0\n",
            "972   0   1   4   0   3   0\n",
            "973   1   1   2   0   0   0\n",
            "974   1   2   3   0   3   0\n",
            "975   1   0   1   0   3   3\n",
            "976   4   1   4   0   0   0\n",
            "977   0   1   1   0   0   0\n",
            "978   1   1   1   0   0   3\n",
            "979   0   1   4   0   3   0\n",
            "980   3   1   4   0   0   0\n",
            "981   1   1   3   0   1   0\n",
            "982   0   1   1   3   1   0\n",
            "983   0   2   3   0   2   0\n",
            "984   1   1   1   0   3   3\n",
            "985   1   1   1   1   3   3\n",
            "986   3   1   3   0   2   3\n",
            "987   0   0   1   0   0   2\n",
            "988   3   1   1   0   0   0\n",
            "989   4   1   1   1   1   0\n",
            "990   4   1   2   0   0   0\n",
            "991   3   2   4   0   0   0\n",
            "992   1   0   2   0   2   3\n",
            "993   0   1   2   0   3   0\n",
            "994   1   1   3   0   3   0\n",
            "995   4   1   4   0   3   2\n",
            "996   3   1   0   0   3   0\n",
            "997   1   1   1   1   3   0\n",
            "998   3   1   1   3   0   0\n",
            "999   1   1   1   0   0   2\n",
            "\n",
            "[1000 rows x 6 columns]\n",
            "-6338.962289899204\n"
          ],
          "name": "stdout"
        }
      ]
    },
    {
      "cell_type": "code",
      "metadata": {
        "id": "OVvHkSDI0mls",
        "colab_type": "code",
        "outputId": "e7164489-fe52-4b82-e5a0-636441e1a4b7",
        "colab": {}
      },
      "source": [
        "network2= BayesianModel()\n",
        "network2.add_nodes_from(['x1','x2','x3','x4','x5','x6'])\n",
        "network2.add_edges_from([('x1','x4'),('x1','x2'),('x2','x3'),('x4','x6'),('x3','x5')])\n",
        "network2.add_cpds(x1_cpd,x41_cpd,x21_cpd,x32_cpd,x64_cpd,x53_cpd)\n",
        "network2.check_model()\n",
        "infer2 = BayesianModelSampling(network2)\n",
        "inference2=infer2.forward_sample(size=1000, return_type='dataframe')\n",
        "print(inference2)\n",
        "k2_2 = K2Score(inference2)\n",
        "print(str(k2_2.score(network2)))\n"
      ],
      "execution_count": 0,
      "outputs": [
        {
          "output_type": "stream",
          "text": [
            "     x1  x4  x6  x2  x3  x5\n",
            "0     1   0   4   0   1   1\n",
            "1     0   3   2   0   1   2\n",
            "2     0   0   4   0   1   3\n",
            "3     2   0   4   4   2   3\n",
            "4     0   0   4   0   1   3\n",
            "5     0   0   3   0   2   0\n",
            "6     0   0   3   3   1   1\n",
            "7     0   3   4   0   1   3\n",
            "8     0   0   2   1   0   0\n",
            "9     0   0   4   0   1   3\n",
            "10    0   0   2   4   2   1\n",
            "11    0   0   3   1   0   0\n",
            "12    0   0   2   1   1   0\n",
            "13    0   0   3   4   1   0\n",
            "14    0   0   1   3   1   1\n",
            "15    0   1   1   1   1   0\n",
            "16    0   0   4   1   1   0\n",
            "17    0   1   1   0   1   0\n",
            "18    0   0   4   4   0   0\n",
            "19    0   0   4   3   2   3\n",
            "20    0   0   3   1   1   3\n",
            "21    0   0   0   0   0   0\n",
            "22    0   0   2   4   2   3\n",
            "23    0   0   1   1   0   0\n",
            "24    2   0   3   0   2   3\n",
            "25    0   0   2   1   1   3\n",
            "26    0   0   1   3   1   3\n",
            "27    0   3   1   0   1   0\n",
            "28    0   0   4   0   1   0\n",
            "29    0   3   3   0   1   2\n",
            "..   ..  ..  ..  ..  ..  ..\n",
            "970   0   1   1   4   2   3\n",
            "971   3   3   3   3   1   1\n",
            "972   0   1   4   3   0   3\n",
            "973   0   0   1   3   1   0\n",
            "974   1   0   1   0   1   3\n",
            "975   0   0   3   0   1   0\n",
            "976   0   3   2   1   1   3\n",
            "977   3   0   1   1   1   1\n",
            "978   3   0   4   0   1   2\n",
            "979   0   0   2   1   0   0\n",
            "980   0   0   2   3   1   0\n",
            "981   0   3   1   4   1   0\n",
            "982   0   0   1   4   1   3\n",
            "983   0   0   4   0   1   3\n",
            "984   0   0   4   0   1   0\n",
            "985   0   0   3   0   1   0\n",
            "986   0   0   3   1   0   3\n",
            "987   0   3   1   4   1   0\n",
            "988   2   0   1   3   2   0\n",
            "989   0   1   4   4   1   0\n",
            "990   0   0   1   0   1   0\n",
            "991   0   0   2   3   0   3\n",
            "992   0   0   2   1   1   3\n",
            "993   0   0   1   3   1   1\n",
            "994   0   0   4   0   2   1\n",
            "995   0   0   1   3   0   0\n",
            "996   0   0   4   0   1   0\n",
            "997   0   3   3   3   1   3\n",
            "998   3   0   2   3   1   0\n",
            "999   0   0   4   4   1   3\n",
            "\n",
            "[1000 rows x 6 columns]\n",
            "-6451.003840774321\n"
          ],
          "name": "stdout"
        }
      ]
    },
    {
      "cell_type": "code",
      "metadata": {
        "id": "Utspxs2F0mlu",
        "colab_type": "code",
        "outputId": "362994db-11ad-4175-f521-da38ffbed6c7",
        "colab": {}
      },
      "source": [
        "network3= BayesianModel()\n",
        "network3.add_nodes_from(['x1','x2','x3','x4','x5','x6'])\n",
        "network3.add_edges_from([('x3','x2'),('x2','x5'),('x3','x6'),('x6','x1'),('x6','x4')])\n",
        "network3.add_cpds(x3_cpd,x23_cpd,x52_cpd,x63_cpd,x16_cpd,x46_cpd)\n",
        "network3.check_model()\n",
        "infer3 = BayesianModelSampling(network3)\n",
        "inference3=infer3.forward_sample(size=1000, return_type='dataframe')\n",
        "print(inference3)\n",
        "k2_3 = K2Score(inference3)\n",
        "print(str(k2_3.score(network3)))\n"
      ],
      "execution_count": 0,
      "outputs": [
        {
          "output_type": "stream",
          "text": [
            "     x3  x6  x4  x2  x5  x1\n",
            "0     1   1   0   0   0   0\n",
            "1     2   2   0   4   3   0\n",
            "2     0   1   0   3   0   0\n",
            "3     0   1   3   1   3   0\n",
            "4     2   1   0   0   3   2\n",
            "5     0   4   3   4   3   0\n",
            "6     0   4   3   4   1   0\n",
            "7     1   2   0   0   2   0\n",
            "8     1   2   1   1   3   0\n",
            "9     1   3   3   4   0   0\n",
            "10    1   1   0   1   1   3\n",
            "11    2   3   1   4   0   0\n",
            "12    0   2   1   1   1   1\n",
            "13    1   2   0   1   2   3\n",
            "14    1   2   0   4   0   2\n",
            "15    0   3   0   1   2   0\n",
            "16    1   3   0   1   0   0\n",
            "17    2   1   0   0   2   0\n",
            "18    1   3   0   1   3   0\n",
            "19    0   3   0   0   2   0\n",
            "20    1   4   0   1   0   0\n",
            "21    2   4   3   0   3   3\n",
            "22    1   3   0   4   0   0\n",
            "23    1   1   0   3   2   0\n",
            "24    1   3   3   1   3   0\n",
            "25    2   3   1   0   3   0\n",
            "26    1   3   3   2   1   0\n",
            "27    1   3   0   1   0   0\n",
            "28    0   1   0   4   2   0\n",
            "29    2   3   0   4   0   3\n",
            "..   ..  ..  ..  ..  ..  ..\n",
            "970   2   4   0   4   3   0\n",
            "971   1   3   0   1   0   0\n",
            "972   1   4   3   0   0   3\n",
            "973   1   2   0   0   0   0\n",
            "974   1   2   0   1   3   0\n",
            "975   2   2   0   1   0   0\n",
            "976   2   3   0   1   0   0\n",
            "977   1   1   0   0   0   2\n",
            "978   0   2   0   0   1   0\n",
            "979   1   3   0   3   0   0\n",
            "980   1   1   0   1   3   0\n",
            "981   1   3   3   1   1   0\n",
            "982   1   3   0   0   0   0\n",
            "983   1   3   0   3   3   0\n",
            "984   1   3   0   0   3   0\n",
            "985   2   4   0   0   2   0\n",
            "986   0   3   0   1   3   3\n",
            "987   0   1   0   1   0   0\n",
            "988   1   4   0   1   1   0\n",
            "989   1   2   3   1   3   2\n",
            "990   2   3   1   1   0   0\n",
            "991   1   3   0   1   0   0\n",
            "992   2   3   0   4   3   0\n",
            "993   0   4   3   1   3   0\n",
            "994   1   3   0   1   0   3\n",
            "995   0   3   0   4   3   0\n",
            "996   1   4   0   4   3   0\n",
            "997   2   1   0   4   3   0\n",
            "998   1   1   0   4   0   0\n",
            "999   1   3   1   0   0   0\n",
            "\n",
            "[1000 rows x 6 columns]\n",
            "-6454.072380638447\n"
          ],
          "name": "stdout"
        }
      ]
    },
    {
      "cell_type": "code",
      "metadata": {
        "id": "LkfvYXwb0mlw",
        "colab_type": "code",
        "outputId": "bd323d0d-fbd8-4189-8aec-d66b4173246f",
        "colab": {}
      },
      "source": [
        "network4= BayesianModel()\n",
        "network4.add_nodes_from(['x1','x2','x3','x4','x5','x6'])\n",
        "network4.add_edges_from([('x6','x2'),('x2','x5'),('x5','x3'),('x6','x4'),('x4','x1')])\n",
        "network4.add_cpds(x6_cpd,x26_cpd,x52_cpd,x35_cpd,x46_cpd,x14_cpd)\n",
        "network4.check_model()\n",
        "infer4 = BayesianModelSampling(network4)\n",
        "inference4=infer4.forward_sample(size=1000, return_type='dataframe')\n",
        "print(inference4)\n",
        "k2_4 = K2Score(inference4)\n",
        "print(str(k2_4.score(network4)))\n"
      ],
      "execution_count": 0,
      "outputs": [
        {
          "output_type": "stream",
          "text": [
            "     x6  x4  x2  x5  x3  x1\n",
            "0     2   0   0   1   1   0\n",
            "1     1   0   0   2   1   2\n",
            "2     1   3   3   3   2   0\n",
            "3     3   0   1   0   1   0\n",
            "4     1   0   3   3   1   0\n",
            "5     1   0   3   0   1   0\n",
            "6     1   0   0   3   1   0\n",
            "7     1   0   0   0   1   0\n",
            "8     2   0   4   3   2   0\n",
            "9     3   0   0   1   1   0\n",
            "10    4   0   0   1   1   3\n",
            "11    4   0   4   0   0   0\n",
            "12    4   0   4   1   1   0\n",
            "13    1   0   0   3   1   0\n",
            "14    2   1   4   3   2   0\n",
            "15    1   1   0   0   0   0\n",
            "16    1   0   0   0   1   1\n",
            "17    1   1   1   3   1   0\n",
            "18    3   0   2   1   0   0\n",
            "19    1   1   3   3   0   0\n",
            "20    3   0   1   3   2   2\n",
            "21    1   3   4   2   0   0\n",
            "22    3   3   3   3   1   0\n",
            "23    2   0   3   1   1   0\n",
            "24    2   0   4   3   1   3\n",
            "25    2   0   1   2   1   0\n",
            "26    3   0   0   0   2   3\n",
            "27    3   0   1   0   1   0\n",
            "28    4   0   1   3   0   0\n",
            "29    1   0   0   3   1   0\n",
            "..   ..  ..  ..  ..  ..  ..\n",
            "970   2   1   1   3   2   0\n",
            "971   1   0   3   3   2   2\n",
            "972   3   0   0   1   1   0\n",
            "973   3   0   0   0   0   0\n",
            "974   3   0   1   0   2   0\n",
            "975   1   1   3   3   1   0\n",
            "976   1   0   1   3   1   0\n",
            "977   3   3   0   3   2   3\n",
            "978   3   0   4   0   1   0\n",
            "979   4   2   4   3   1   0\n",
            "980   4   0   3   3   1   0\n",
            "981   1   0   1   3   1   0\n",
            "982   4   0   3   0   2   0\n",
            "983   1   0   1   0   0   0\n",
            "984   1   3   3   0   1   0\n",
            "985   1   1   0   0   1   0\n",
            "986   1   1   0   2   0   3\n",
            "987   1   3   1   0   1   0\n",
            "988   3   0   4   3   1   3\n",
            "989   1   3   1   0   1   0\n",
            "990   3   0   0   3   1   0\n",
            "991   1   0   3   3   0   3\n",
            "992   1   0   1   0   1   0\n",
            "993   2   3   4   0   2   0\n",
            "994   1   0   4   3   2   0\n",
            "995   3   0   4   0   1   0\n",
            "996   2   0   1   3   1   0\n",
            "997   1   0   1   2   1   3\n",
            "998   1   0   3   3   1   0\n",
            "999   3   0   1   0   1   0\n",
            "\n",
            "[1000 rows x 6 columns]\n",
            "-6383.26456557056\n"
          ],
          "name": "stdout"
        }
      ]
    },
    {
      "cell_type": "code",
      "metadata": {
        "id": "6ZgRVm1p0mly",
        "colab_type": "code",
        "colab": {}
      },
      "source": [
        "data = [inference,inference1,inference2,inference3,inference4]\n",
        "combined_infer = pd.concat(data,axis=0,sort=False)"
      ],
      "execution_count": 0,
      "outputs": []
    },
    {
      "cell_type": "code",
      "metadata": {
        "id": "4K6ewUT_0mlz",
        "colab_type": "code",
        "outputId": "87da99a1-f472-4d44-8fe4-18b6a159dab1",
        "colab": {}
      },
      "source": [
        "K2 = K2Score(combined_infer)\n",
        "print(str(K2.score(network)))\n",
        "print(str(K2.score(network1)))\n",
        "print(str(K2.score(network2)))\n",
        "print(str(K2.score(network3)))\n",
        "print(str(K2.score(network4)))\n",
        "\n",
        "#Best Bayesian Network is network3 since its K2 score is the highest among the created networks\n",
        "#Worst Bayesian Network is network4 since its K2 score is the lowest among the created networks\n"
      ],
      "execution_count": 0,
      "outputs": [
        {
          "output_type": "stream",
          "text": [
            "-31922.465946215812\n",
            "-31906.205802519173\n",
            "-31942.598709225465\n",
            "-31906.077405075514\n",
            "-32141.20688823206\n"
          ],
          "name": "stdout"
        }
      ]
    },
    {
      "cell_type": "code",
      "metadata": {
        "id": "i0gNfMvx0ml2",
        "colab_type": "code",
        "outputId": "36643515-e38d-4a6b-ebf5-4df4838dae42",
        "colab": {}
      },
      "source": [
        "# mle = MaximumLikelihoodEstimator(network3, inference)\n",
        "# print(mle.estimate_cpd('x6'))  "
      ],
      "execution_count": 0,
      "outputs": [
        {
          "output_type": "stream",
          "text": [
            "+-------+----------------------+---------------------+---------------------+\n",
            "| x3    | x3(0)                | x3(1)               | x3(2)               |\n",
            "+-------+----------------------+---------------------+---------------------+\n",
            "| x6(0) | 0.011834319526627219 | 0.01037037037037037 | 0.0                 |\n",
            "+-------+----------------------+---------------------+---------------------+\n",
            "| x6(1) | 0.2958579881656805   | 0.3214814814814815  | 0.24358974358974358 |\n",
            "+-------+----------------------+---------------------+---------------------+\n",
            "| x6(2) | 0.21301775147928995  | 0.1674074074074074  | 0.1794871794871795  |\n",
            "+-------+----------------------+---------------------+---------------------+\n",
            "| x6(3) | 0.20710059171597633  | 0.30814814814814817 | 0.33974358974358976 |\n",
            "+-------+----------------------+---------------------+---------------------+\n",
            "| x6(4) | 0.27218934911242604  | 0.1925925925925926  | 0.23717948717948717 |\n",
            "+-------+----------------------+---------------------+---------------------+\n"
          ],
          "name": "stdout"
        }
      ]
    },
    {
      "cell_type": "markdown",
      "metadata": {
        "id": "X0emRoBb0ml4",
        "colab_type": "text"
      },
      "source": [
        "## Markov network construction and inference."
      ]
    },
    {
      "cell_type": "code",
      "metadata": {
        "id": "XkOUTPO70ml5",
        "colab_type": "code",
        "outputId": "399e76ff-9733-4ae6-a9e0-563cf6fa44dc",
        "colab": {}
      },
      "source": [
        "from pgmpy.models import MarkovModel\n",
        "from pgmpy.inference import BeliefPropagation\n",
        "import time\n",
        "\n",
        "\n",
        "mm = network3.to_markov_model()\n",
        "# mm.nodes()\n",
        "# mm.edges()\n",
        "start = time.time()\n",
        "bp = BeliefPropagation(network3)\n",
        "mquery = bp.map_query(variables=['x1','x2','x3','x4','x5'],evidence={'x6':0})\n",
        "end=time.time()\n",
        "print(\"Computation Time for Best Bayesian Network converted to Markov Network :\",end-start,\"secs\")\n",
        "print(mquery)\n",
        "\n",
        "start = time.time()\n",
        "bp1 = BeliefPropagation(mm)\n",
        "mquery1 = bp1.map_query(variables=['x1','x2','x3','x4','x5'],evidence={'x6':0})\n",
        "end=time.time()\n",
        "print(\"Computation Time for Best Bayesian Network: \",end-start,\"secs\")\n",
        "print(mquery1)\n",
        "\n",
        "\n",
        "#Markov Network takes more time than the corresponding Bayesian Network. It is slower.\n"
      ],
      "execution_count": 0,
      "outputs": [
        {
          "output_type": "stream",
          "text": [
            "Computation Time for Best Bayesian Network converted to Markov Network : 0.028000831604003906 secs\n",
            "{'x1': 0, 'x2': 1, 'x3': 1, 'x4': 0, 'x5': 3}\n",
            "Computation Time for Best Bayesian Network:  0.012248516082763672 secs\n",
            "{'x1': 0, 'x2': 1, 'x3': 1, 'x4': 0, 'x5': 3}\n"
          ],
          "name": "stdout"
        }
      ]
    },
    {
      "cell_type": "code",
      "metadata": {
        "id": "9FonPMhj0ml8",
        "colab_type": "code",
        "outputId": "06ac0f1b-8274-4fa8-c7e0-313a82419e8b",
        "colab": {}
      },
      "source": [
        "#Using Hill Climb Search to estimate the best model\n",
        "\n",
        "from pgmpy.estimators import HillClimbSearch\n",
        "\n",
        "and_data = pd.read_csv('AND-Features.csv',header=0,index_col=0)\n",
        "and_data.drop(['img_id'],inplace=True,axis=1,errors='ignore')\n",
        "print(and_data)\n",
        "hill_climb = HillClimbSearch(and_data,scoring_method=K2Score(and_data))\n",
        "bestmodel = hill_climb.estimate()\n",
        "print(bestmodel.edges())\n",
        "k2score = K2Score(and_data)\n",
        "print(str(k2score.score(bestmodel)))\n",
        "\n"
      ],
      "execution_count": 0,
      "outputs": [
        {
          "output_type": "stream",
          "text": [
            "      f1  f2  f3  f4  f5  f6  f7  f8  f9\n",
            "0      2   1   1   0   2   2   0   2   2\n",
            "1      2   1   1   0   2   2   0   1   2\n",
            "2      2   1   1   3   2   2   0   2   2\n",
            "3      1   1   1   0   2   2   0   2   2\n",
            "4      2   1   1   0   2   2   0   0   2\n",
            "5      2   1   1   3   2   2   0   1   2\n",
            "6      2   1   1   0   2   2   0   3   2\n",
            "7      1   1   1   0   2   2   0   1   2\n",
            "8      1   1   1   3   2   2   0   2   2\n",
            "9      2   1   1   3   2   2   0   0   2\n",
            "10     3   1   1   0   2   2   0   2   2\n",
            "11     2   1   1   3   2   2   0   3   2\n",
            "12     1   1   1   0   2   2   0   0   2\n",
            "13     2   1   1   0   2   2   1   2   2\n",
            "14     1   1   1   3   2   2   0   1   2\n",
            "15     1   1   1   0   2   2   0   3   2\n",
            "16     3   1   1   0   2   2   0   1   2\n",
            "17     3   1   1   3   2   2   0   2   2\n",
            "18     2   1   1   0   2   2   1   1   2\n",
            "19     1   1   1   3   2   2   0   0   2\n",
            "20     2   1   1   3   2   2   1   2   2\n",
            "21     2   1   1   1   2   2   0   2   2\n",
            "22     1   1   1   3   2   2   0   3   2\n",
            "23     3   1   1   0   2   2   0   0   2\n",
            "24     2   1   1   0   2   2   0   4   2\n",
            "25     1   1   1   0   2   2   1   2   2\n",
            "26     3   1   1   3   2   2   0   1   2\n",
            "27     3   1   1   0   2   2   0   3   2\n",
            "28     2   1   1   0   2   2   1   0   2\n",
            "29     2   1   1   3   2   2   1   1   2\n",
            "...   ..  ..  ..  ..  ..  ..  ..  ..  ..\n",
            "996    0   0   0   3   2   0   0   3   2\n",
            "997    0   4   2   4   2   2   0   3   2\n",
            "998    3   4   2   2   0   2   1   3   2\n",
            "999    0   1   2   4   2   2   2   2   2\n",
            "1000   1   0   0   1   0   1   3   2   2\n",
            "1001   3   1   2   4   2   2   3   4   2\n",
            "1002   0   2   0   1   0   2   1   1   1\n",
            "1003   0   1   0   1   0   3   1   0   1\n",
            "1004   0   1   0   2   0   1   2   2   2\n",
            "1005   0   4   0   0   0   1   1   1   1\n",
            "1006   1   0   1   1   3   1   1   2   1\n",
            "1007   0   4   0   3   0   1   1   2   1\n",
            "1008   2   0   2   1   0   1   0   1   1\n",
            "1009   3   2   0   1   0   1   1   2   1\n",
            "1010   1   3   0   1   0   2   0   2   1\n",
            "1011   3   4   2   4   2   2   3   2   2\n",
            "1012   3   0   0   1   0   3   1   1   1\n",
            "1013   3   4   2   0   2   3   3   1   1\n",
            "1014   0   4   0   2   0   2   0   4   1\n",
            "1015   1   2   0   2   0   1   1   1   1\n",
            "1016   3   1   2   4   3   2   0   2   2\n",
            "1017   3   0   0   2   0   3   3   0   2\n",
            "1018   1   4   0   2   0   2   3   4   1\n",
            "1019   3   0   2   4   0   2   3   2   2\n",
            "1020   1   3   2   3   3   2   0   2   2\n",
            "1021   0   4   2   4   2   3   1   1   1\n",
            "1022   1   1   2   4   3   2   1   2   1\n",
            "1023   1   1   2   4   3   2   1   1   1\n",
            "1024   2   4   2   4   3   3   3   4   2\n",
            "1025   2   2   2   4   3   3   3   4   2\n",
            "\n",
            "[1026 rows x 9 columns]\n",
            "[('f3', 'f4'), ('f3', 'f9'), ('f3', 'f8'), ('f5', 'f9'), ('f5', 'f3'), ('f9', 'f8'), ('f9', 'f7'), ('f9', 'f1'), ('f9', 'f6'), ('f9', 'f2'), ('f9', 'f4')]\n",
            "-9462.704892371388\n"
          ],
          "name": "stdout"
        }
      ]
    },
    {
      "cell_type": "code",
      "metadata": {
        "id": "EQaE0PTD0ml-",
        "colab_type": "code",
        "outputId": "2f348498-aecd-476e-92ac-c7cf764b0cc7",
        "colab": {}
      },
      "source": [
        "from pgmpy.estimators import BayesianEstimator\n",
        "from pgmpy.estimators import ConstraintBasedEstimator\n",
        "from pgmpy.estimators import MaximumLikelihoodEstimator\n",
        "\n",
        "#Bayesian Model is created using the edges given by Hill Climb Search and others using random edges. The other models have a lower \n",
        "#k2 score lower than the one estimated by Hill Climb Search. \n",
        "\n",
        "model = BayesianModel([('f3', 'f4'), ('f3', 'f9'), ('f3', 'f8'), ('f5', 'f9'), ('f5', 'f3'), ('f9', 'f8'), ('f9', 'f7'), ('f9', 'f1'), ('f9', 'f6'), ('f9', 'f2'), ('f9', 'f4')]) \n",
        "k2 = K2Score(and_data)\n",
        "print(str(k2.score(model)))\n",
        "#print(k2.local_score('f4', parents=['f3', 'f9']))\n",
        "\n",
        "\n",
        "\n",
        "#est = ConstraintBasedEstimator(and_data)\n",
        "# def is_independent(X, Y, Zs=[], significance_level=0.05):\n",
        "#     return est.test_conditional_independence(X, Y, Zs)[1] >= significance_level\n",
        "# print(is_independent('f4', 'f1'))    #independent\n",
        "# print(is_independent('f4', 'f8'))          \n",
        "# print(is_independent('f8', 'f3'))          \n",
        "# print(is_independent('f1', 'f2', ['f4'])) \n",
        "\n",
        "est1 = BayesianEstimator(model, and_data)\n",
        "print(est1.estimate_cpd('f9', prior_type='K2', equivalent_sample_size=10))  #Estimated conditional probability distribution\n",
        "#of 'f9' based on the model and data-set.\n",
        "\n",
        "\n",
        "model1 = BayesianModel([('f1', 'f2'), ('f1', 'f3'), ('f2', 'f4'), ('f4', 'f5'), ('f4', 'f8'), ('f3', 'f6'), ('f6', 'f9'), ('f9', 'f7')]) \n",
        "print(str(k2.score(model1)))\n",
        "\n",
        "\n",
        "model2 = BayesianModel([('f1', 'f6'), ('f1', 'f8'), ('f6', 'f2'), ('f6', 'f3'), ('f8', 'f5'), ('f8', 'f4'), ('f2', 'f7'), ('f5', 'f9')]) \n",
        "print(str(k2.score(model2)))\n",
        "\n",
        "\n",
        "model3 = BayesianModel([('f1', 'f9'), ('f1', 'f4'), ('f9', 'f7'), ('f4', 'f8'), ('f8', 'f6'), ('f6', 'f2'), ('f6', 'f5'), ('f5', 'f3')]) \n",
        "print(str(k2.score(model3)))\n",
        "\n",
        "\n",
        "# mle = MaximumLikelihoodEstimator(model, and_data)\n",
        "# print(mle.estimate_cpd('f9'))  \n",
        "\n",
        "\n",
        "\n"
      ],
      "execution_count": 0,
      "outputs": [
        {
          "output_type": "stream",
          "text": [
            "-9462.704892371386\n",
            "+-------+-------+-------+----------------------+--------------------+---------------------+-------+---------------------+--------------------+-------+-------+-------+--------------------+\n",
            "| f3    | f3(0) | f3(0) | f3(0)                | f3(0)              | f3(1)               | f3(1) | f3(1)               | f3(1)              | f3(2) | f3(2) | f3(2) | f3(2)              |\n",
            "+-------+-------+-------+----------------------+--------------------+---------------------+-------+---------------------+--------------------+-------+-------+-------+--------------------+\n",
            "| f5    | f5(0) | f5(1) | f5(2)                | f5(3)              | f5(0)               | f5(1) | f5(2)               | f5(3)              | f5(0) | f5(1) | f5(2) | f5(3)              |\n",
            "+-------+-------+-------+----------------------+--------------------+---------------------+-------+---------------------+--------------------+-------+-------+-------+--------------------+\n",
            "| f9(1) | 0.65  | 0.5   | 0.021052631578947368 | 0.3333333333333333 | 0.5179856115107914  | 0.05  | 0.18114874815905743 | 0.2857142857142857 | 0.3   | 0.5   | 0.125 | 0.3333333333333333 |\n",
            "+-------+-------+-------+----------------------+--------------------+---------------------+-------+---------------------+--------------------+-------+-------+-------+--------------------+\n",
            "| f9(2) | 0.35  | 0.5   | 0.9789473684210527   | 0.6666666666666666 | 0.48201438848920863 | 0.95  | 0.8188512518409425  | 0.7142857142857143 | 0.7   | 0.5   | 0.875 | 0.6666666666666666 |\n",
            "+-------+-------+-------+----------------------+--------------------+---------------------+-------+---------------------+--------------------+-------+-------+-------+--------------------+\n",
            "-9812.171135684388\n",
            "-9832.172843143524\n",
            "-9757.454830245364\n"
          ],
          "name": "stdout"
        }
      ]
    }
  ]
}
